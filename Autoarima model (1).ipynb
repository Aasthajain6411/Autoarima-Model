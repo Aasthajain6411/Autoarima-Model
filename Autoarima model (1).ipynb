{
  "nbformat": 4,
  "nbformat_minor": 0,
  "metadata": {
    "colab": {
      "name": "Untitled2.ipynb",
      "provenance": []
    },
    "kernelspec": {
      "name": "python3",
      "display_name": "Python 3"
    },
    "language_info": {
      "name": "python"
    }
  },
  "cells": [
    {
      "cell_type": "code",
      "metadata": {
        "id": "zkDMOAQZU2aj"
      },
      "source": [
        "import pandas as pd\n",
        "import numpy as np\n",
        "from sklearn.preprocessing import MinMaxScaler"
      ],
      "execution_count": 22,
      "outputs": []
    },
    {
      "cell_type": "code",
      "metadata": {
        "colab": {
          "base_uri": "https://localhost:8080/",
          "height": 195
        },
        "id": "jOq2D9CmU516",
        "outputId": "0a6647bc-02e4-438f-a9d5-157365eb2d81"
      },
      "source": [
        "df = pd.read_csv('/content/NSEBANK.csv')\n",
        "df.head()"
      ],
      "execution_count": 23,
      "outputs": [
        {
          "output_type": "execute_result",
          "data": {
            "text/html": [
              "<div>\n",
              "<style scoped>\n",
              "    .dataframe tbody tr th:only-of-type {\n",
              "        vertical-align: middle;\n",
              "    }\n",
              "\n",
              "    .dataframe tbody tr th {\n",
              "        vertical-align: top;\n",
              "    }\n",
              "\n",
              "    .dataframe thead th {\n",
              "        text-align: right;\n",
              "    }\n",
              "</style>\n",
              "<table border=\"1\" class=\"dataframe\">\n",
              "  <thead>\n",
              "    <tr style=\"text-align: right;\">\n",
              "      <th></th>\n",
              "      <th>Date</th>\n",
              "      <th>Open</th>\n",
              "      <th>High</th>\n",
              "      <th>Low</th>\n",
              "      <th>Close</th>\n",
              "      <th>Adj Close</th>\n",
              "      <th>Volume</th>\n",
              "    </tr>\n",
              "  </thead>\n",
              "  <tbody>\n",
              "    <tr>\n",
              "      <th>0</th>\n",
              "      <td>04-01-2010</td>\n",
              "      <td>9031.900391</td>\n",
              "      <td>9129.450195</td>\n",
              "      <td>9031.900391</td>\n",
              "      <td>9112.349609</td>\n",
              "      <td>9112.349609</td>\n",
              "      <td>0.0</td>\n",
              "    </tr>\n",
              "    <tr>\n",
              "      <th>1</th>\n",
              "      <td>05-01-2010</td>\n",
              "      <td>9191.250000</td>\n",
              "      <td>9214.000000</td>\n",
              "      <td>9157.349609</td>\n",
              "      <td>9192.150391</td>\n",
              "      <td>9192.150391</td>\n",
              "      <td>0.0</td>\n",
              "    </tr>\n",
              "    <tr>\n",
              "      <th>2</th>\n",
              "      <td>06-01-2010</td>\n",
              "      <td>9243.900391</td>\n",
              "      <td>9265.549805</td>\n",
              "      <td>9183.650391</td>\n",
              "      <td>9223.000000</td>\n",
              "      <td>9223.000000</td>\n",
              "      <td>0.0</td>\n",
              "    </tr>\n",
              "    <tr>\n",
              "      <th>3</th>\n",
              "      <td>07-01-2010</td>\n",
              "      <td>9240.250000</td>\n",
              "      <td>9261.849609</td>\n",
              "      <td>9153.250000</td>\n",
              "      <td>9192.950195</td>\n",
              "      <td>9192.950195</td>\n",
              "      <td>0.0</td>\n",
              "    </tr>\n",
              "    <tr>\n",
              "      <th>4</th>\n",
              "      <td>08-01-2010</td>\n",
              "      <td>9185.049805</td>\n",
              "      <td>9214.349609</td>\n",
              "      <td>9141.450195</td>\n",
              "      <td>9160.700195</td>\n",
              "      <td>9160.700195</td>\n",
              "      <td>0.0</td>\n",
              "    </tr>\n",
              "  </tbody>\n",
              "</table>\n",
              "</div>"
            ],
            "text/plain": [
              "         Date         Open         High  ...        Close    Adj Close  Volume\n",
              "0  04-01-2010  9031.900391  9129.450195  ...  9112.349609  9112.349609     0.0\n",
              "1  05-01-2010  9191.250000  9214.000000  ...  9192.150391  9192.150391     0.0\n",
              "2  06-01-2010  9243.900391  9265.549805  ...  9223.000000  9223.000000     0.0\n",
              "3  07-01-2010  9240.250000  9261.849609  ...  9192.950195  9192.950195     0.0\n",
              "4  08-01-2010  9185.049805  9214.349609  ...  9160.700195  9160.700195     0.0\n",
              "\n",
              "[5 rows x 7 columns]"
            ]
          },
          "metadata": {
            "tags": []
          },
          "execution_count": 23
        }
      ]
    },
    {
      "cell_type": "code",
      "metadata": {
        "colab": {
          "base_uri": "https://localhost:8080/",
          "height": 195
        },
        "id": "dhab422tXRkf",
        "outputId": "e6c604ce-e376-4e54-8a7a-a49622a581e6"
      },
      "source": [
        "df=df.dropna()\n",
        "df.head()"
      ],
      "execution_count": 24,
      "outputs": [
        {
          "output_type": "execute_result",
          "data": {
            "text/html": [
              "<div>\n",
              "<style scoped>\n",
              "    .dataframe tbody tr th:only-of-type {\n",
              "        vertical-align: middle;\n",
              "    }\n",
              "\n",
              "    .dataframe tbody tr th {\n",
              "        vertical-align: top;\n",
              "    }\n",
              "\n",
              "    .dataframe thead th {\n",
              "        text-align: right;\n",
              "    }\n",
              "</style>\n",
              "<table border=\"1\" class=\"dataframe\">\n",
              "  <thead>\n",
              "    <tr style=\"text-align: right;\">\n",
              "      <th></th>\n",
              "      <th>Date</th>\n",
              "      <th>Open</th>\n",
              "      <th>High</th>\n",
              "      <th>Low</th>\n",
              "      <th>Close</th>\n",
              "      <th>Adj Close</th>\n",
              "      <th>Volume</th>\n",
              "    </tr>\n",
              "  </thead>\n",
              "  <tbody>\n",
              "    <tr>\n",
              "      <th>0</th>\n",
              "      <td>04-01-2010</td>\n",
              "      <td>9031.900391</td>\n",
              "      <td>9129.450195</td>\n",
              "      <td>9031.900391</td>\n",
              "      <td>9112.349609</td>\n",
              "      <td>9112.349609</td>\n",
              "      <td>0.0</td>\n",
              "    </tr>\n",
              "    <tr>\n",
              "      <th>1</th>\n",
              "      <td>05-01-2010</td>\n",
              "      <td>9191.250000</td>\n",
              "      <td>9214.000000</td>\n",
              "      <td>9157.349609</td>\n",
              "      <td>9192.150391</td>\n",
              "      <td>9192.150391</td>\n",
              "      <td>0.0</td>\n",
              "    </tr>\n",
              "    <tr>\n",
              "      <th>2</th>\n",
              "      <td>06-01-2010</td>\n",
              "      <td>9243.900391</td>\n",
              "      <td>9265.549805</td>\n",
              "      <td>9183.650391</td>\n",
              "      <td>9223.000000</td>\n",
              "      <td>9223.000000</td>\n",
              "      <td>0.0</td>\n",
              "    </tr>\n",
              "    <tr>\n",
              "      <th>3</th>\n",
              "      <td>07-01-2010</td>\n",
              "      <td>9240.250000</td>\n",
              "      <td>9261.849609</td>\n",
              "      <td>9153.250000</td>\n",
              "      <td>9192.950195</td>\n",
              "      <td>9192.950195</td>\n",
              "      <td>0.0</td>\n",
              "    </tr>\n",
              "    <tr>\n",
              "      <th>4</th>\n",
              "      <td>08-01-2010</td>\n",
              "      <td>9185.049805</td>\n",
              "      <td>9214.349609</td>\n",
              "      <td>9141.450195</td>\n",
              "      <td>9160.700195</td>\n",
              "      <td>9160.700195</td>\n",
              "      <td>0.0</td>\n",
              "    </tr>\n",
              "  </tbody>\n",
              "</table>\n",
              "</div>"
            ],
            "text/plain": [
              "         Date         Open         High  ...        Close    Adj Close  Volume\n",
              "0  04-01-2010  9031.900391  9129.450195  ...  9112.349609  9112.349609     0.0\n",
              "1  05-01-2010  9191.250000  9214.000000  ...  9192.150391  9192.150391     0.0\n",
              "2  06-01-2010  9243.900391  9265.549805  ...  9223.000000  9223.000000     0.0\n",
              "3  07-01-2010  9240.250000  9261.849609  ...  9192.950195  9192.950195     0.0\n",
              "4  08-01-2010  9185.049805  9214.349609  ...  9160.700195  9160.700195     0.0\n",
              "\n",
              "[5 rows x 7 columns]"
            ]
          },
          "metadata": {
            "tags": []
          },
          "execution_count": 24
        }
      ]
    },
    {
      "cell_type": "code",
      "metadata": {
        "id": "WGIw5V7wVDaZ"
      },
      "source": [
        "A = df[['Open','High', 'Low', 'Adj Close', 'Volume']].values\n",
        "b = df[['Close']].values"
      ],
      "execution_count": 25,
      "outputs": []
    },
    {
      "cell_type": "code",
      "metadata": {
        "colab": {
          "base_uri": "https://localhost:8080/"
        },
        "id": "3TIMWYz5VMtF",
        "outputId": "592f90d8-23a1-457d-9205-0161d0dc7f9a"
      },
      "source": [
        "pip install pmdarima"
      ],
      "execution_count": 26,
      "outputs": [
        {
          "output_type": "stream",
          "text": [
            "Requirement already satisfied: pmdarima in /usr/local/lib/python3.7/dist-packages (1.8.2)\n",
            "Requirement already satisfied: statsmodels!=0.12.0,>=0.11 in /usr/local/lib/python3.7/dist-packages (from pmdarima) (0.12.2)\n",
            "Requirement already satisfied: setuptools!=50.0.0,>=38.6.0 in /usr/local/lib/python3.7/dist-packages (from pmdarima) (56.1.0)\n",
            "Requirement already satisfied: pandas>=0.19 in /usr/local/lib/python3.7/dist-packages (from pmdarima) (1.1.5)\n",
            "Requirement already satisfied: scikit-learn>=0.22 in /usr/local/lib/python3.7/dist-packages (from pmdarima) (0.22.2.post1)\n",
            "Requirement already satisfied: scipy>=1.3.2 in /usr/local/lib/python3.7/dist-packages (from pmdarima) (1.4.1)\n",
            "Requirement already satisfied: Cython!=0.29.18,>=0.29 in /usr/local/lib/python3.7/dist-packages (from pmdarima) (0.29.23)\n",
            "Requirement already satisfied: joblib>=0.11 in /usr/local/lib/python3.7/dist-packages (from pmdarima) (1.0.1)\n",
            "Requirement already satisfied: numpy~=1.19.0 in /usr/local/lib/python3.7/dist-packages (from pmdarima) (1.19.5)\n",
            "Requirement already satisfied: urllib3 in /usr/local/lib/python3.7/dist-packages (from pmdarima) (1.24.3)\n",
            "Requirement already satisfied: patsy>=0.5 in /usr/local/lib/python3.7/dist-packages (from statsmodels!=0.12.0,>=0.11->pmdarima) (0.5.1)\n",
            "Requirement already satisfied: python-dateutil>=2.7.3 in /usr/local/lib/python3.7/dist-packages (from pandas>=0.19->pmdarima) (2.8.1)\n",
            "Requirement already satisfied: pytz>=2017.2 in /usr/local/lib/python3.7/dist-packages (from pandas>=0.19->pmdarima) (2018.9)\n",
            "Requirement already satisfied: six in /usr/local/lib/python3.7/dist-packages (from patsy>=0.5->statsmodels!=0.12.0,>=0.11->pmdarima) (1.15.0)\n"
          ],
          "name": "stdout"
        }
      ]
    },
    {
      "cell_type": "code",
      "metadata": {
        "colab": {
          "base_uri": "https://localhost:8080/",
          "height": 906
        },
        "id": "BLNalTkcVO8c",
        "outputId": "30a9ca1e-bb6f-4f88-cd7f-0e04b1704c5c"
      },
      "source": [
        "\n",
        "# Import the library\n",
        "from pmdarima import auto_arima\n",
        "\n",
        "  \n",
        "# Fit auto_arima function to AirPassengers dataset\n",
        "stepwise_fit = auto_arima(df['Open'], start_p = 1, start_q = 1,\n",
        "                          max_p = 3, max_q = 3, m = 12,\n",
        "                          start_P = 0, seasonal = True,\n",
        "                          d = None, D = 1, trace = True,\n",
        "                          error_action ='ignore',   # we don't want to know if an order does not work\n",
        "                          suppress_warnings = True,  # we don't want convergence warnings\n",
        "                          stepwise = True)           # set to stepwise\n",
        "  \n",
        "# To print the summary\n",
        "stepwise_fit.summary()"
      ],
      "execution_count": 64,
      "outputs": [
        {
          "output_type": "stream",
          "text": [
            "Performing stepwise search to minimize aic\n",
            " ARIMA(1,0,1)(0,1,1)[12] intercept   : AIC=inf, Time=14.88 sec\n",
            " ARIMA(0,0,0)(0,1,0)[12] intercept   : AIC=35641.949, Time=0.20 sec\n",
            " ARIMA(1,0,0)(1,1,0)[12] intercept   : AIC=31477.223, Time=7.97 sec\n",
            " ARIMA(0,0,1)(0,1,1)[12] intercept   : AIC=33783.478, Time=7.92 sec\n",
            " ARIMA(0,0,0)(0,1,0)[12]             : AIC=35686.212, Time=0.13 sec\n",
            " ARIMA(1,0,0)(0,1,0)[12] intercept   : AIC=32041.353, Time=0.97 sec\n",
            " ARIMA(1,0,0)(2,1,0)[12] intercept   : AIC=31257.443, Time=24.81 sec\n",
            " ARIMA(1,0,0)(2,1,1)[12] intercept   : AIC=inf, Time=43.95 sec\n",
            " ARIMA(1,0,0)(1,1,1)[12] intercept   : AIC=inf, Time=14.97 sec\n",
            " ARIMA(0,0,0)(2,1,0)[12] intercept   : AIC=35636.172, Time=5.28 sec\n",
            " ARIMA(2,0,0)(2,1,0)[12] intercept   : AIC=31256.576, Time=25.43 sec\n",
            " ARIMA(2,0,0)(1,1,0)[12] intercept   : AIC=31473.601, Time=8.70 sec\n",
            " ARIMA(2,0,0)(2,1,1)[12] intercept   : AIC=inf, Time=58.84 sec\n",
            " ARIMA(2,0,0)(1,1,1)[12] intercept   : AIC=inf, Time=21.12 sec\n",
            " ARIMA(3,0,0)(2,1,0)[12] intercept   : AIC=31254.856, Time=32.91 sec\n",
            " ARIMA(3,0,0)(1,1,0)[12] intercept   : AIC=31469.945, Time=12.93 sec\n",
            " ARIMA(3,0,0)(2,1,1)[12] intercept   : AIC=inf, Time=58.06 sec\n",
            " ARIMA(3,0,0)(1,1,1)[12] intercept   : AIC=inf, Time=30.08 sec\n",
            " ARIMA(3,0,1)(2,1,0)[12] intercept   : AIC=inf, Time=61.38 sec\n",
            " ARIMA(2,0,1)(2,1,0)[12] intercept   : AIC=31257.194, Time=47.99 sec\n",
            " ARIMA(3,0,0)(2,1,0)[12]             : AIC=31257.258, Time=10.34 sec\n",
            "\n",
            "Best model:  ARIMA(3,0,0)(2,1,0)[12] intercept\n",
            "Total fit time: 488.858 seconds\n"
          ],
          "name": "stdout"
        },
        {
          "output_type": "execute_result",
          "data": {
            "text/html": [
              "<table class=\"simpletable\">\n",
              "<caption>SARIMAX Results</caption>\n",
              "<tr>\n",
              "  <th>Dep. Variable:</th>                  <td>y</td>               <th>  No. Observations:  </th>    <td>2205</td>   \n",
              "</tr>\n",
              "<tr>\n",
              "  <th>Model:</th>           <td>SARIMAX(3, 0, 0)x(2, 1, 0, 12)</td> <th>  Log Likelihood     </th> <td>-15620.428</td>\n",
              "</tr>\n",
              "<tr>\n",
              "  <th>Date:</th>                   <td>Fri, 28 May 2021</td>        <th>  AIC                </th>  <td>31254.856</td>\n",
              "</tr>\n",
              "<tr>\n",
              "  <th>Time:</th>                       <td>11:28:59</td>            <th>  BIC                </th>  <td>31294.708</td>\n",
              "</tr>\n",
              "<tr>\n",
              "  <th>Sample:</th>                         <td>0</td>               <th>  HQIC               </th>  <td>31269.421</td>\n",
              "</tr>\n",
              "<tr>\n",
              "  <th></th>                             <td> - 2205</td>            <th>                     </th>      <td> </td>    \n",
              "</tr>\n",
              "<tr>\n",
              "  <th>Covariance Type:</th>               <td>opg</td>              <th>                     </th>      <td> </td>    \n",
              "</tr>\n",
              "</table>\n",
              "<table class=\"simpletable\">\n",
              "<tr>\n",
              "      <td></td>         <th>coef</th>     <th>std err</th>      <th>z</th>      <th>P>|z|</th>  <th>[0.025</th>    <th>0.975]</th>  \n",
              "</tr>\n",
              "<tr>\n",
              "  <th>intercept</th> <td>   13.6565</td> <td>    6.434</td> <td>    2.123</td> <td> 0.034</td> <td>    1.047</td> <td>   26.266</td>\n",
              "</tr>\n",
              "<tr>\n",
              "  <th>ar.L1</th>     <td>    0.9709</td> <td>    0.016</td> <td>   59.708</td> <td> 0.000</td> <td>    0.939</td> <td>    1.003</td>\n",
              "</tr>\n",
              "<tr>\n",
              "  <th>ar.L2</th>     <td>    0.0051</td> <td>    0.026</td> <td>    0.200</td> <td> 0.842</td> <td>   -0.045</td> <td>    0.056</td>\n",
              "</tr>\n",
              "<tr>\n",
              "  <th>ar.L3</th>     <td>   -0.0407</td> <td>    0.017</td> <td>   -2.437</td> <td> 0.015</td> <td>   -0.074</td> <td>   -0.008</td>\n",
              "</tr>\n",
              "<tr>\n",
              "  <th>ar.S.L12</th>  <td>   -0.6327</td> <td>    0.012</td> <td>  -52.059</td> <td> 0.000</td> <td>   -0.656</td> <td>   -0.609</td>\n",
              "</tr>\n",
              "<tr>\n",
              "  <th>ar.S.L24</th>  <td>   -0.3098</td> <td>    0.014</td> <td>  -21.843</td> <td> 0.000</td> <td>   -0.338</td> <td>   -0.282</td>\n",
              "</tr>\n",
              "<tr>\n",
              "  <th>sigma2</th>    <td> 8.697e+04</td> <td> 1292.880</td> <td>   67.269</td> <td> 0.000</td> <td> 8.44e+04</td> <td> 8.95e+04</td>\n",
              "</tr>\n",
              "</table>\n",
              "<table class=\"simpletable\">\n",
              "<tr>\n",
              "  <th>Ljung-Box (L1) (Q):</th>     <td>0.10</td> <th>  Jarque-Bera (JB):  </th> <td>7235.05</td>\n",
              "</tr>\n",
              "<tr>\n",
              "  <th>Prob(Q):</th>                <td>0.76</td> <th>  Prob(JB):          </th>  <td>0.00</td>  \n",
              "</tr>\n",
              "<tr>\n",
              "  <th>Heteroskedasticity (H):</th> <td>2.56</td> <th>  Skew:              </th>  <td>0.36</td>  \n",
              "</tr>\n",
              "<tr>\n",
              "  <th>Prob(H) (two-sided):</th>    <td>0.00</td> <th>  Kurtosis:          </th>  <td>11.87</td> \n",
              "</tr>\n",
              "</table><br/><br/>Warnings:<br/>[1] Covariance matrix calculated using the outer product of gradients (complex-step)."
            ],
            "text/plain": [
              "<class 'statsmodels.iolib.summary.Summary'>\n",
              "\"\"\"\n",
              "                                     SARIMAX Results                                      \n",
              "==========================================================================================\n",
              "Dep. Variable:                                  y   No. Observations:                 2205\n",
              "Model:             SARIMAX(3, 0, 0)x(2, 1, 0, 12)   Log Likelihood              -15620.428\n",
              "Date:                            Fri, 28 May 2021   AIC                          31254.856\n",
              "Time:                                    11:28:59   BIC                          31294.708\n",
              "Sample:                                         0   HQIC                         31269.421\n",
              "                                           - 2205                                         \n",
              "Covariance Type:                              opg                                         \n",
              "==============================================================================\n",
              "                 coef    std err          z      P>|z|      [0.025      0.975]\n",
              "------------------------------------------------------------------------------\n",
              "intercept     13.6565      6.434      2.123      0.034       1.047      26.266\n",
              "ar.L1          0.9709      0.016     59.708      0.000       0.939       1.003\n",
              "ar.L2          0.0051      0.026      0.200      0.842      -0.045       0.056\n",
              "ar.L3         -0.0407      0.017     -2.437      0.015      -0.074      -0.008\n",
              "ar.S.L12      -0.6327      0.012    -52.059      0.000      -0.656      -0.609\n",
              "ar.S.L24      -0.3098      0.014    -21.843      0.000      -0.338      -0.282\n",
              "sigma2      8.697e+04   1292.880     67.269      0.000    8.44e+04    8.95e+04\n",
              "===================================================================================\n",
              "Ljung-Box (L1) (Q):                   0.10   Jarque-Bera (JB):              7235.05\n",
              "Prob(Q):                              0.76   Prob(JB):                         0.00\n",
              "Heteroskedasticity (H):               2.56   Skew:                             0.36\n",
              "Prob(H) (two-sided):                  0.00   Kurtosis:                        11.87\n",
              "===================================================================================\n",
              "\n",
              "Warnings:\n",
              "[1] Covariance matrix calculated using the outer product of gradients (complex-step).\n",
              "\"\"\""
            ]
          },
          "metadata": {
            "tags": []
          },
          "execution_count": 64
        }
      ]
    },
    {
      "cell_type": "code",
      "metadata": {
        "colab": {
          "base_uri": "https://localhost:8080/",
          "height": 553
        },
        "id": "02i6h0RSZNhQ",
        "outputId": "560be11b-2b09-4e00-9c41-50e2c30f0f20"
      },
      "source": [
        "\n",
        "# Split data into train / test sets\n",
        "train = df.iloc[0:1500]\n",
        "test = df.iloc[1500:] # set one year(12 months) for testing\n",
        "  \n",
        "# Fit a SARIMAX(2, 0, 0)x(2, 1, 0, 12) on the training set\n",
        "from statsmodels.tsa.statespace.sarimax import SARIMAX\n",
        "  \n",
        "model = SARIMAX(train['Open'], \n",
        "                order = (3, 0, 0), \n",
        "                seasonal_order =(2, 1, 0, 12))\n",
        "  \n",
        "result = model.fit()\n",
        "result.summary()"
      ],
      "execution_count": 65,
      "outputs": [
        {
          "output_type": "stream",
          "text": [
            "/usr/local/lib/python3.7/dist-packages/statsmodels/tsa/base/tsa_model.py:579: ValueWarning: An unsupported index was provided and will be ignored when e.g. forecasting.\n",
            "  ' ignored when e.g. forecasting.', ValueWarning)\n",
            "/usr/local/lib/python3.7/dist-packages/statsmodels/tsa/base/tsa_model.py:579: ValueWarning: An unsupported index was provided and will be ignored when e.g. forecasting.\n",
            "  ' ignored when e.g. forecasting.', ValueWarning)\n"
          ],
          "name": "stderr"
        },
        {
          "output_type": "execute_result",
          "data": {
            "text/html": [
              "<table class=\"simpletable\">\n",
              "<caption>SARIMAX Results</caption>\n",
              "<tr>\n",
              "  <th>Dep. Variable:</th>                <td>Open</td>              <th>  No. Observations:  </th>    <td>1500</td>   \n",
              "</tr>\n",
              "<tr>\n",
              "  <th>Model:</th>           <td>SARIMAX(3, 0, 0)x(2, 1, 0, 12)</td> <th>  Log Likelihood     </th> <td>-10443.948</td>\n",
              "</tr>\n",
              "<tr>\n",
              "  <th>Date:</th>                   <td>Fri, 28 May 2021</td>        <th>  AIC                </th>  <td>20899.896</td>\n",
              "</tr>\n",
              "<tr>\n",
              "  <th>Time:</th>                       <td>11:29:43</td>            <th>  BIC                </th>  <td>20931.728</td>\n",
              "</tr>\n",
              "<tr>\n",
              "  <th>Sample:</th>                         <td>0</td>               <th>  HQIC               </th>  <td>20911.759</td>\n",
              "</tr>\n",
              "<tr>\n",
              "  <th></th>                             <td> - 1500</td>            <th>                     </th>      <td> </td>    \n",
              "</tr>\n",
              "<tr>\n",
              "  <th>Covariance Type:</th>               <td>opg</td>              <th>                     </th>      <td> </td>    \n",
              "</tr>\n",
              "</table>\n",
              "<table class=\"simpletable\">\n",
              "<tr>\n",
              "      <td></td>        <th>coef</th>     <th>std err</th>      <th>z</th>      <th>P>|z|</th>  <th>[0.025</th>    <th>0.975]</th>  \n",
              "</tr>\n",
              "<tr>\n",
              "  <th>ar.L1</th>    <td>    0.9886</td> <td>    0.019</td> <td>   53.116</td> <td> 0.000</td> <td>    0.952</td> <td>    1.025</td>\n",
              "</tr>\n",
              "<tr>\n",
              "  <th>ar.L2</th>    <td>   -0.0009</td> <td>    0.030</td> <td>   -0.028</td> <td> 0.977</td> <td>   -0.060</td> <td>    0.058</td>\n",
              "</tr>\n",
              "<tr>\n",
              "  <th>ar.L3</th>    <td>   -0.0586</td> <td>    0.018</td> <td>   -3.246</td> <td> 0.001</td> <td>   -0.094</td> <td>   -0.023</td>\n",
              "</tr>\n",
              "<tr>\n",
              "  <th>ar.S.L12</th> <td>   -0.6109</td> <td>    0.016</td> <td>  -38.000</td> <td> 0.000</td> <td>   -0.642</td> <td>   -0.579</td>\n",
              "</tr>\n",
              "<tr>\n",
              "  <th>ar.S.L24</th> <td>   -0.2786</td> <td>    0.018</td> <td>  -15.846</td> <td> 0.000</td> <td>   -0.313</td> <td>   -0.244</td>\n",
              "</tr>\n",
              "<tr>\n",
              "  <th>sigma2</th>   <td> 6.924e+04</td> <td> 1466.602</td> <td>   47.214</td> <td> 0.000</td> <td> 6.64e+04</td> <td> 7.21e+04</td>\n",
              "</tr>\n",
              "</table>\n",
              "<table class=\"simpletable\">\n",
              "<tr>\n",
              "  <th>Ljung-Box (L1) (Q):</th>     <td>0.15</td> <th>  Jarque-Bera (JB):  </th> <td>2502.51</td>\n",
              "</tr>\n",
              "<tr>\n",
              "  <th>Prob(Q):</th>                <td>0.70</td> <th>  Prob(JB):          </th>  <td>0.00</td>  \n",
              "</tr>\n",
              "<tr>\n",
              "  <th>Heteroskedasticity (H):</th> <td>2.39</td> <th>  Skew:              </th>  <td>0.07</td>  \n",
              "</tr>\n",
              "<tr>\n",
              "  <th>Prob(H) (two-sided):</th>    <td>0.00</td> <th>  Kurtosis:          </th>  <td>9.35</td>  \n",
              "</tr>\n",
              "</table><br/><br/>Warnings:<br/>[1] Covariance matrix calculated using the outer product of gradients (complex-step)."
            ],
            "text/plain": [
              "<class 'statsmodels.iolib.summary.Summary'>\n",
              "\"\"\"\n",
              "                                     SARIMAX Results                                      \n",
              "==========================================================================================\n",
              "Dep. Variable:                               Open   No. Observations:                 1500\n",
              "Model:             SARIMAX(3, 0, 0)x(2, 1, 0, 12)   Log Likelihood              -10443.948\n",
              "Date:                            Fri, 28 May 2021   AIC                          20899.896\n",
              "Time:                                    11:29:43   BIC                          20931.728\n",
              "Sample:                                         0   HQIC                         20911.759\n",
              "                                           - 1500                                         \n",
              "Covariance Type:                              opg                                         \n",
              "==============================================================================\n",
              "                 coef    std err          z      P>|z|      [0.025      0.975]\n",
              "------------------------------------------------------------------------------\n",
              "ar.L1          0.9886      0.019     53.116      0.000       0.952       1.025\n",
              "ar.L2         -0.0009      0.030     -0.028      0.977      -0.060       0.058\n",
              "ar.L3         -0.0586      0.018     -3.246      0.001      -0.094      -0.023\n",
              "ar.S.L12      -0.6109      0.016    -38.000      0.000      -0.642      -0.579\n",
              "ar.S.L24      -0.2786      0.018    -15.846      0.000      -0.313      -0.244\n",
              "sigma2      6.924e+04   1466.602     47.214      0.000    6.64e+04    7.21e+04\n",
              "===================================================================================\n",
              "Ljung-Box (L1) (Q):                   0.15   Jarque-Bera (JB):              2502.51\n",
              "Prob(Q):                              0.70   Prob(JB):                         0.00\n",
              "Heteroskedasticity (H):               2.39   Skew:                             0.07\n",
              "Prob(H) (two-sided):                  0.00   Kurtosis:                         9.35\n",
              "===================================================================================\n",
              "\n",
              "Warnings:\n",
              "[1] Covariance matrix calculated using the outer product of gradients (complex-step).\n",
              "\"\"\""
            ]
          },
          "metadata": {
            "tags": []
          },
          "execution_count": 65
        }
      ]
    },
    {
      "cell_type": "code",
      "metadata": {
        "colab": {
          "base_uri": "https://localhost:8080/",
          "height": 282
        },
        "id": "HQtVYqlPozE-",
        "outputId": "72e85225-9c3b-41c2-f9e7-ae6b32e58f37"
      },
      "source": [
        "residuals = pd.DataFrame(result.resid)\n",
        "residuals.plot()"
      ],
      "execution_count": 66,
      "outputs": [
        {
          "output_type": "execute_result",
          "data": {
            "text/plain": [
              "<matplotlib.axes._subplots.AxesSubplot at 0x7f28c11bd650>"
            ]
          },
          "metadata": {
            "tags": []
          },
          "execution_count": 66
        },
        {
          "output_type": "display_data",
          "data": {
            "image/png": "[encoded data removed]",
            "text/plain": [
              "<Figure size 432x288 with 1 Axes>"
            ]
          },
          "metadata": {
            "tags": [],
            "needs_background": "light"
          }
        }
      ]
    },
    {
      "cell_type": "code",
      "metadata": {
        "colab": {
          "base_uri": "https://localhost:8080/",
          "height": 335
        },
        "id": "cnVJg9S-o_sB",
        "outputId": "2ef8e176-604d-4e82-c115-7ff2d2861b81"
      },
      "source": [
        "from math import sqrt\n",
        "from sklearn.metrics import mean_squared_error\n",
        "import matplotlib.pyplot as plt\n",
        "plt.plot(test.Open[0:],color='r',label='test')\n",
        "plt.plot(result.predict(0,2500),color='g',label='prediction')"
      ],
      "execution_count": 74,
      "outputs": [
        {
          "output_type": "stream",
          "text": [
            "/usr/local/lib/python3.7/dist-packages/statsmodels/tsa/base/tsa_model.py:379: ValueWarning: No supported index is available. Prediction results will be given with an integer index beginning at `start`.\n",
            "  ValueWarning)\n"
          ],
          "name": "stderr"
        },
        {
          "output_type": "execute_result",
          "data": {
            "text/plain": [
              "[<matplotlib.lines.Line2D at 0x7f28c0e74e10>]"
            ]
          },
          "metadata": {
            "tags": []
          },
          "execution_count": 74
        },
        {
          "output_type": "display_data",
          "data": {
            "image/png": "[encoded data removed]",
            "text/plain": [
              "<Figure size 432x288 with 1 Axes>"
            ]
          },
          "metadata": {
            "tags": [],
            "needs_background": "light"
          }
        }
      ]
    }
  ]
}